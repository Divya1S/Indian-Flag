{
 "cells": [
  {
   "cell_type": "code",
   "execution_count": 1,
   "id": "d433d475",
   "metadata": {},
   "outputs": [
    {
     "data": {
      "image/png": "[encoded data removed]",
      "text/plain": [
       "<Figure size 432x288 with 1 Axes>"
      ]
     },
     "metadata": {
      "needs_background": "light"
     },
     "output_type": "display_data"
    }
   ],
   "source": [
    "import numpy as np\n",
    "import matplotlib.pyplot as plt\n",
    "import matplotlib.patches as patch\n",
    "\n",
    "\n",
    "#Plotting all the colors of national flag\n",
    "rect1 = patch.Rectangle((0,0), width=10, height=2, facecolor='g')\n",
    "rect2 = patch.Rectangle((0,2), width=10, height=2, facecolor='white')\n",
    "rect3 = patch.Rectangle((0,4), width=10, height=2, facecolor='#FF9933')\n",
    "fig,ax = plt.subplots()\n",
    "ax.add_patch(rect1)\n",
    "ax.add_patch(rect2)\n",
    "ax.add_patch(rect3)\n",
    "\n",
    "#Ashok Chakra Circle\n",
    "r=0.8\n",
    "plt.plot(5,3, marker = 'o', markerfacecolor = '#000088ff', markersize = 10)\n",
    "circle1 = plt.Circle((5, 3), r, color='#000088ff', fill=False, linewidth=7)\n",
    "ax.add_artist(circle1)\n",
    "\n",
    "#Add small circles inside the edge of circle\n",
    "\n",
    "small_circles_x = []\n",
    "small_circles_y = []\n",
    "\n",
    "\n",
    "for i in range(1,25):\n",
    "    small_circles_x.append(5+(r-0.05) * np.cos(np.pi/24 + np.pi*i/12))\n",
    "    small_circles_y.append(3+(r-0.05) * np.sin(np.pi/24 + np.pi*i/12))\n",
    "\n",
    "\n",
    "plt.plot(small_circles_x, small_circles_y, 'o',\n",
    "         markersize=4,\n",
    "         markerfacecolor='#000088ff',\n",
    "         markeredgecolor = '#000088ff')\n",
    "\n",
    "#Complete the chakra with 24 spokes\n",
    "for i in range(0,24):\n",
    "    x1 =  5 + r/2 * np.cos(np.pi*i/12 + np.pi/48)\n",
    "    x2 =  5 + r/2 * np.cos(np.pi*i/12 - np.pi/48)\n",
    "    y1 =  3 + r/2 * np.sin(np.pi*i/12 + np.pi/48)\n",
    "    y2 =  3 + r/2 * np.sin(np.pi*i/12 - np.pi/48)\n",
    "    x3 =  5 + r * np.cos(np.pi*i/12)\n",
    "    y3 =  3 + r * np.sin(np.pi*i/12)\n",
    "    ax.add_patch(patch.Polygon([[5,3], [x1,y1], [x3,y3],[x2,y2]], fill=True, closed=True, color='#000088ff'))\n",
    "\n",
    "\n",
    "plt.axis('equal')\n",
    "plt.show()"
   ]
  },
  {
   "cell_type": "code",
   "execution_count": null,
   "id": "c2c9f02d",
   "metadata": {},
   "outputs": [],
   "source": []
  }
 ],
 "metadata": {
  "kernelspec": {
   "display_name": "Python 3",
   "language": "python",
   "name": "python3"
  },
  "language_info": {
   "codemirror_mode": {
    "name": "ipython",
    "version": 3
   },
   "file_extension": ".py",
   "mimetype": "text/x-python",
   "name": "python",
   "nbconvert_exporter": "python",
   "pygments_lexer": "ipython3",
   "version": "3.8.8"
  }
 },
 "nbformat": 4,
 "nbformat_minor": 5
}
